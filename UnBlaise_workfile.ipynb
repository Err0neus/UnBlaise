{
 "cells": [
  {
   "cell_type": "code",
   "execution_count": 159,
   "metadata": {},
   "outputs": [
    {
     "name": "stdout",
     "output_type": "stream",
     "text": [
      "[nltk_data] Downloading package words to\n",
      "[nltk_data]     C:\\Users\\cernadu01\\AppData\\Roaming\\nltk_data...\n",
      "[nltk_data]   Package words is already up-to-date!\n"
     ]
    }
   ],
   "source": [
    "import nltk\n",
    "nltk.download('words')\n",
    "from nltk.corpus import words\n",
    "import pandas as pd\n",
    "%matplotlib inline\n",
    "import re"
   ]
  },
  {
   "cell_type": "code",
   "execution_count": 2,
   "metadata": {},
   "outputs": [
    {
     "name": "stdout",
     "output_type": "stream",
     "text": [
      "removed duplicates: 2359\n",
      "total words:        234377\n"
     ]
    }
   ],
   "source": [
    "# get all words\n",
    "all_words = words.words()\n",
    "len_original = len(all_words)\n",
    "# change the lower case and remove duplicates\n",
    "all_words = list(set([x.lower() for x in all_words]))\n",
    "print('removed duplicates: ' + str(len_original - len(all_words)))\n",
    "print('total words:        ' + str(len(all_words)))"
   ]
  },
  {
   "cell_type": "code",
   "execution_count": 60,
   "metadata": {},
   "outputs": [],
   "source": [
    "def clean_non_alpha(list_of_words):\n",
    "    return [x.lower() for x in list(list_of_words) if x.isalpha()]\n",
    "\n",
    "def deduplicate_word_list(list_of_words):\n",
    "    return list(set([x.lower() for x in list_of_words]))\n",
    "\n",
    "def build_letter_frequency_dict(list_of_words):\n",
    "    frequency_dict = {}\n",
    "    for word in list_of_words:\n",
    "        for letter in list(word):\n",
    "            if letter in frequency_dict.keys():\n",
    "                frequency_dict[letter] += 1\n",
    "            else:\n",
    "                frequency_dict[letter] = 1 \n",
    "    return frequency_dict\n",
    "\n",
    "def build_frequency_dict(list_of_elements):\n",
    "    frequency_dict = {}\n",
    "    for element in list_of_elements:\n",
    "        if element in frequency_dict.keys():\n",
    "            frequency_dict[element] += 1\n",
    "        else:\n",
    "            frequency_dict[element] = 1 \n",
    "    return frequency_dict\n",
    "\n",
    "def plot_frequency(frequency_dict, top_n = 30, order_by_freq = False):\n",
    "    data = pd.DataFrame.from_dict(frequency_dict,orient='index', columns = ['frequency'])\n",
    "    data.sort_index(inplace = True)\n",
    "    data.reset_index(inplace = True)\n",
    "    data.columns = ['element', 'frequency']\n",
    "    frequencies = sorted(data.frequency.tolist())\n",
    "    #display(data)\n",
    "    data = data if len(data) < top_n else data[data.frequency >= frequencies[-top_n]]\n",
    "    data = data if order_by_freq == False else data.sort_values(by='frequency', ascending=True)\n",
    "    data.plot(kind='barh', y = 'frequency', x = 'element', figsize = (10,10))"
   ]
  },
  {
   "cell_type": "code",
   "execution_count": 48,
   "metadata": {},
   "outputs": [
    {
     "data": {
      "image/png": "[encoded data removed]",
      "text/plain": [
       "<Figure size 720x720 with 1 Axes>"
      ]
     },
     "metadata": {
      "needs_background": "light"
     },
     "output_type": "display_data"
    }
   ],
   "source": [
    "plot_frequency(build_letter_frequency_dict(deduplicate_word_list(clean_non_alpha(all_words))),)"
   ]
  },
  {
   "cell_type": "code",
   "execution_count": null,
   "metadata": {},
   "outputs": [],
   "source": [
    "addtion 1"
   ]
  },
  {
   "cell_type": "code",
   "execution_count": null,
   "metadata": {},
   "outputs": [],
   "source": []
  },
  {
   "cell_type": "code",
   "execution_count": null,
   "metadata": {},
   "outputs": [],
   "source": []
  },
  {
   "cell_type": "code",
   "execution_count": null,
   "metadata": {},
   "outputs": [],
   "source": []
  },
  {
   "cell_type": "code",
   "execution_count": null,
   "metadata": {},
   "outputs": [],
   "source": []
  },
  {
   "cell_type": "code",
   "execution_count": null,
   "metadata": {},
   "outputs": [],
   "source": []
  },
  {
   "cell_type": "code",
   "execution_count": null,
   "metadata": {},
   "outputs": [],
   "source": []
  },
  {
   "cell_type": "code",
   "execution_count": null,
   "metadata": {},
   "outputs": [],
   "source": []
  },
  {
   "cell_type": "code",
   "execution_count": null,
   "metadata": {},
   "outputs": [],
   "source": []
  },
  {
   "cell_type": "markdown",
   "metadata": {},
   "source": [
    "# NLTK"
   ]
  },
  {
   "cell_type": "markdown",
   "metadata": {},
   "source": [
    "## data download"
   ]
  },
  {
   "cell_type": "code",
   "execution_count": null,
   "metadata": {},
   "outputs": [],
   "source": [
    "# NLTK Book Collection\n",
    "# https://www.nltk.org/book/ch01.html#sec-computing-with-language-texts-and-words"
   ]
  },
  {
   "cell_type": "code",
   "execution_count": null,
   "metadata": {},
   "outputs": [],
   "source": [
    "#nltk.download()"
   ]
  },
  {
   "cell_type": "code",
   "execution_count": 25,
   "metadata": {},
   "outputs": [
    {
     "name": "stdout",
     "output_type": "stream",
     "text": [
      "*** Introductory Examples for the NLTK Book ***\n",
      "Loading text1, ..., text9 and sent1, ..., sent9\n",
      "Type the name of the text or sentence to view it.\n",
      "Type: 'texts()' or 'sents()' to list the materials.\n",
      "text1: Moby Dick by Herman Melville 1851\n",
      "text2: Sense and Sensibility by Jane Austen 1811\n",
      "text3: The Book of Genesis\n",
      "text4: Inaugural Address Corpus\n",
      "text5: Chat Corpus\n",
      "text6: Monty Python and the Holy Grail\n",
      "text7: Wall Street Journal\n",
      "text8: Personals Corpus\n",
      "text9: The Man Who Was Thursday by G . K . Chesterton 1908\n"
     ]
    }
   ],
   "source": [
    "from nltk.book import *"
   ]
  },
  {
   "cell_type": "code",
   "execution_count": null,
   "metadata": {},
   "outputs": [],
   "source": []
  },
  {
   "cell_type": "markdown",
   "metadata": {},
   "source": [
    "## Searching Text"
   ]
  },
  {
   "cell_type": "markdown",
   "metadata": {},
   "source": [
    "There are many ways to examine the context of a text apart from simply reading it. A concordance view shows us every occurrence of a given word, together with some context. Here we look up the word monstrous in Moby Dick by entering text1 followed by a period, then the term concordance, and then placing \"monstrous\" in parentheses:"
   ]
  },
  {
   "cell_type": "code",
   "execution_count": null,
   "metadata": {},
   "outputs": [],
   "source": [
    "text1.concordance(\"life\")"
   ]
  },
  {
   "cell_type": "code",
   "execution_count": null,
   "metadata": {},
   "outputs": [],
   "source": [
    "text1.similar(\"life\")"
   ]
  },
  {
   "cell_type": "code",
   "execution_count": null,
   "metadata": {},
   "outputs": [],
   "source": [
    "text1.similar(\"monstrous\")"
   ]
  },
  {
   "cell_type": "code",
   "execution_count": null,
   "metadata": {},
   "outputs": [],
   "source": [
    "text2.similar(\"monstrous\")"
   ]
  },
  {
   "cell_type": "code",
   "execution_count": null,
   "metadata": {},
   "outputs": [],
   "source": [
    "text2.similar(\"life\")"
   ]
  },
  {
   "cell_type": "code",
   "execution_count": null,
   "metadata": {},
   "outputs": [],
   "source": [
    "text2.common_contexts([\"monstrous\", \"very\"])"
   ]
  },
  {
   "cell_type": "code",
   "execution_count": null,
   "metadata": {},
   "outputs": [],
   "source": [
    "text4.dispersion_plot([\"life\", \"ballad\", \"fire\", \"woman\", \"land\"])"
   ]
  },
  {
   "cell_type": "code",
   "execution_count": null,
   "metadata": {},
   "outputs": [],
   "source": [
    "text3.dispersion_plot([\"life\", \"ballad\", \"fire\", \"woman\", \"land\"])"
   ]
  },
  {
   "cell_type": "code",
   "execution_count": null,
   "metadata": {},
   "outputs": [],
   "source": [
    "text3.generate()"
   ]
  },
  {
   "cell_type": "markdown",
   "metadata": {},
   "source": [
    "# Counting Vocabulary"
   ]
  },
  {
   "cell_type": "code",
   "execution_count": null,
   "metadata": {},
   "outputs": [],
   "source": [
    "len(text3)"
   ]
  },
  {
   "cell_type": "code",
   "execution_count": null,
   "metadata": {},
   "outputs": [],
   "source": [
    "text3"
   ]
  },
  {
   "cell_type": "code",
   "execution_count": null,
   "metadata": {},
   "outputs": [],
   "source": [
    "text3_list = list(set(text3))"
   ]
  },
  {
   "cell_type": "code",
   "execution_count": 49,
   "metadata": {},
   "outputs": [
    {
     "data": {
      "image/png": "[encoded data removed]",
      "text/plain": [
       "<Figure size 720x720 with 1 Axes>"
      ]
     },
     "metadata": {
      "needs_background": "light"
     },
     "output_type": "display_data"
    }
   ],
   "source": [
    "plot_frequency(build_letter_frequency_dict(clean_non_alpha(list(set(text3)))))"
   ]
  },
  {
   "cell_type": "code",
   "execution_count": 50,
   "metadata": {},
   "outputs": [
    {
     "data": {
      "image/png": "[encoded data removed]",
      "text/plain": [
       "<Figure size 720x720 with 1 Axes>"
      ]
     },
     "metadata": {
      "needs_background": "light"
     },
     "output_type": "display_data"
    }
   ],
   "source": [
    "plot_frequency(build_letter_frequency_dict(clean_non_alpha(list(set(text1)))))"
   ]
  },
  {
   "cell_type": "code",
   "execution_count": 51,
   "metadata": {},
   "outputs": [
    {
     "data": {
      "image/png": "[encoded data removed]",
      "text/plain": [
       "<Figure size 720x720 with 1 Axes>"
      ]
     },
     "metadata": {
      "needs_background": "light"
     },
     "output_type": "display_data"
    }
   ],
   "source": [
    "plot_frequency(build_letter_frequency_dict(clean_non_alpha(list(set(text5)))))"
   ]
  },
  {
   "cell_type": "markdown",
   "metadata": {},
   "source": [
    "## Collocations and Bigrams"
   ]
  },
  {
   "cell_type": "markdown",
   "metadata": {},
   "source": [
    "A collocation is a sequence of words that occur together unusually often. Thus red wine is a collocation, whereas the wine is not. A characteristic of collocations is that they are resistant to substitution with words that have similar senses; for example, maroon wine sounds definitely odd.\n",
    "\n",
    "To get a handle on collocations, we start off by extracting from a text a list of word pairs, also known as bigrams. This is easily accomplished with the function bigrams():"
   ]
  },
  {
   "cell_type": "code",
   "execution_count": null,
   "metadata": {},
   "outputs": [],
   "source": [
    "list(bigrams(['more', 'is', 'said', 'than', 'done']))"
   ]
  },
  {
   "cell_type": "code",
   "execution_count": null,
   "metadata": {},
   "outputs": [],
   "source": [
    "list(bigrams(text3))"
   ]
  },
  {
   "cell_type": "code",
   "execution_count": 26,
   "metadata": {},
   "outputs": [],
   "source": [
    "a=build_frequency_dict(list(bigrams(text3)))"
   ]
  },
  {
   "cell_type": "code",
   "execution_count": 30,
   "metadata": {},
   "outputs": [],
   "source": [
    "data = pd.DataFrame.from_dict(a,orient='index', columns = ['frequency'])\n",
    "data.sort_index(inplace = True)\n",
    "data.reset_index(inplace = True)\n",
    "data.columns = ['element', 'frequency']"
   ]
  },
  {
   "cell_type": "code",
   "execution_count": null,
   "metadata": {},
   "outputs": [],
   "source": []
  },
  {
   "cell_type": "code",
   "execution_count": 61,
   "metadata": {},
   "outputs": [
    {
     "data": {
      "image/png": "[encoded data removed]",
      "text/plain": [
       "<Figure size 720x720 with 1 Axes>"
      ]
     },
     "metadata": {
      "needs_background": "light"
     },
     "output_type": "display_data"
    }
   ],
   "source": [
    "plot_frequency(build_frequency_dict(list(bigrams(clean_non_alpha(text3)))),20,True)"
   ]
  },
  {
   "cell_type": "markdown",
   "metadata": {},
   "source": [
    "# Gutenberg Corpus\n"
   ]
  },
  {
   "cell_type": "code",
   "execution_count": null,
   "metadata": {},
   "outputs": [],
   "source": [
    "nltk.download('gutenberg')\n",
    "nltk.corpus.gutenberg.fileids()"
   ]
  },
  {
   "cell_type": "code",
   "execution_count": null,
   "metadata": {},
   "outputs": [],
   "source": [
    "emma = nltk.corpus.gutenberg.words('austen-emma.txt')\n",
    "len(emma)\n"
   ]
  },
  {
   "cell_type": "code",
   "execution_count": 56,
   "metadata": {},
   "outputs": [],
   "source": [
    "#https://www.nltk.org/book/ch02.html"
   ]
  },
  {
   "cell_type": "code",
   "execution_count": null,
   "metadata": {},
   "outputs": [],
   "source": []
  },
  {
   "cell_type": "code",
   "execution_count": 76,
   "metadata": {},
   "outputs": [
    {
     "data": {
      "text/plain": [
       "{0: 'A', 1: 'B', 2: 'C', 3: 'D'}"
      ]
     },
     "execution_count": 76,
     "metadata": {},
     "output_type": "execute_result"
    }
   ],
   "source": [
    "dict([(i, chr(65+i)) for i in range(4)])"
   ]
  },
  {
   "cell_type": "code",
   "execution_count": 83,
   "metadata": {},
   "outputs": [
    {
     "name": "stdout",
     "output_type": "stream",
     "text": [
      "a\n",
      "b\n"
     ]
    }
   ],
   "source": [
    "for char in 'ab':\n",
    "    print(char)"
   ]
  },
  {
   "cell_type": "markdown",
   "metadata": {},
   "source": [
    "# caesar cipher\n"
   ]
  },
  {
   "cell_type": "markdown",
   "metadata": {},
   "source": [
    "## simple shift"
   ]
  },
  {
   "cell_type": "code",
   "execution_count": 66,
   "metadata": {},
   "outputs": [],
   "source": [
    "plain_alpha = 'abcdefghijklmnopqrstuvwxyz'"
   ]
  },
  {
   "cell_type": "code",
   "execution_count": 126,
   "metadata": {},
   "outputs": [],
   "source": []
  },
  {
   "cell_type": "code",
   "execution_count": 222,
   "metadata": {},
   "outputs": [],
   "source": [
    "def build_cipher_alpha(shift):\n",
    "    return (plain_alpha[shift:] + plain_alpha[:shift]).upper()\n",
    "\n",
    "def encrypt(plaintext, shift):\n",
    "    cipher_alpha = build_cipher_alpha(shift)\n",
    "    encrypt_cipher = { plain_alpha[i] : cipher_alpha[i] for i in range(len(plain_alpha))}\n",
    "    return ''.join([encrypt_cipher[x] if x.isalpha() else x for x in plaintext.lower()]).upper()\n",
    "\n",
    "def decrypt(ciphtertext, shift):\n",
    "    cipher_alpha = build_cipher_alpha(shift)\n",
    "    decrypt_cipher = { cipher_alpha[i] : plain_alpha[i] for i in range(len(cipher_alpha))}\n",
    "    return ''.join([decrypt_cipher[x] if x.isalpha() else x for x in ciphtertext]).lower()\n",
    "\n",
    "def print_alphabets(shift):\n",
    "    cipher_alpha = build_cipher_alpha(shift)\n",
    "    encrypt_cipher = { plain_alpha[i] : cipher_alpha[i] for i in range(len(plain_alpha))}\n",
    "    decrypt_cipher = { cipher_alpha[i] : plain_alpha[i] for i in range(len(cipher_alpha))}\n",
    "    display(pd.DataFrame.from_dict({'plain alphabet' : list(encrypt_cipher.keys()), \n",
    "                            'cipher alphabet' : list(encrypt_cipher.values())}))\n",
    "    \n",
    "def print_all_decryptions(ciphertext):\n",
    "    for i in range(len(plain_alpha)):\n",
    "        print(decrypt(ciphertext, i))"
   ]
  },
  {
   "cell_type": "code",
   "execution_count": null,
   "metadata": {},
   "outputs": [],
   "source": []
  },
  {
   "cell_type": "code",
   "execution_count": null,
   "metadata": {},
   "outputs": [],
   "source": []
  },
  {
   "cell_type": "code",
   "execution_count": 223,
   "metadata": {},
   "outputs": [],
   "source": [
    "plaintext = \"something, well, I don't know what?\""
   ]
  },
  {
   "cell_type": "code",
   "execution_count": 224,
   "metadata": {},
   "outputs": [
    {
     "data": {
      "text/plain": [
       "\"XTRJYMNSL, BJQQ, N ITS'Y PSTB BMFY?\""
      ]
     },
     "execution_count": 224,
     "metadata": {},
     "output_type": "execute_result"
    }
   ],
   "source": [
    "ciphertext = encrypt(plaintext, 5)\n",
    "ciphertext"
   ]
  },
  {
   "cell_type": "code",
   "execution_count": null,
   "metadata": {},
   "outputs": [],
   "source": []
  },
  {
   "cell_type": "code",
   "execution_count": 225,
   "metadata": {},
   "outputs": [
    {
     "name": "stdout",
     "output_type": "stream",
     "text": [
      "xtrjymnsl, bjqq, n its'y pstb bmfy?\n",
      "wsqixlmrk, aipp, m hsr'x orsa alex?\n",
      "vrphwklqj, zhoo, l grq'w nqrz zkdw?\n",
      "uqogvjkpi, ygnn, k fqp'v mpqy yjcv?\n",
      "tpnfuijoh, xfmm, j epo'u lopx xibu?\n",
      "something, well, i don't know what?\n",
      "rnldsghmf, vdkk, h cnm's jmnv vgzs?\n",
      "qmkcrfgle, ucjj, g bml'r ilmu ufyr?\n",
      "pljbqefkd, tbii, f alk'q hklt texq?\n",
      "okiapdejc, sahh, e zkj'p gjks sdwp?\n",
      "njhzocdib, rzgg, d yji'o fijr rcvo?\n",
      "migynbcha, qyff, c xih'n ehiq qbun?\n",
      "lhfxmabgz, pxee, b whg'm dghp patm?\n",
      "kgewlzafy, owdd, a vgf'l cfgo ozsl?\n",
      "jfdvkyzex, nvcc, z ufe'k befn nyrk?\n",
      "iecujxydw, mubb, y ted'j adem mxqj?\n",
      "hdbtiwxcv, ltaa, x sdc'i zcdl lwpi?\n",
      "gcashvwbu, kszz, w rcb'h ybck kvoh?\n",
      "fbzrguvat, jryy, v qba'g xabj jung?\n",
      "eayqftuzs, iqxx, u paz'f wzai itmf?\n",
      "dzxpestyr, hpww, t ozy'e vyzh hsle?\n",
      "cywodrsxq, govv, s nyx'd uxyg grkd?\n",
      "bxvncqrwp, fnuu, r mxw'c twxf fqjc?\n",
      "awumbpqvo, emtt, q lwv'b svwe epib?\n",
      "zvtlaopun, dlss, p kvu'a ruvd doha?\n",
      "yuskznotm, ckrr, o jut'z qtuc cngz?\n"
     ]
    }
   ],
   "source": [
    "print_all_decryptions(ciphertext)"
   ]
  },
  {
   "cell_type": "code",
   "execution_count": 191,
   "metadata": {},
   "outputs": [],
   "source": [
    "# TO DO... get a score identifying actual words from non-words?"
   ]
  },
  {
   "cell_type": "markdown",
   "metadata": {},
   "source": [
    "## with a keyword"
   ]
  },
  {
   "cell_type": "code",
   "execution_count": null,
   "metadata": {},
   "outputs": [],
   "source": [
    "plain_alpha = 'abcdefghijklmnopqrstuvwxyz'"
   ]
  },
  {
   "cell_type": "code",
   "execution_count": 160,
   "metadata": {},
   "outputs": [],
   "source": [
    "keyword = 'julius caesar'"
   ]
  },
  {
   "cell_type": "code",
   "execution_count": null,
   "metadata": {},
   "outputs": [],
   "source": []
  },
  {
   "cell_type": "code",
   "execution_count": 250,
   "metadata": {},
   "outputs": [],
   "source": [
    "def build_cipher_alpha(keyword):\n",
    "    keyword = re.sub(r'\\W+', '', keyword)\n",
    "    cipher_alpha = ''\n",
    "    for char in keyword:\n",
    "        char = char.upper()\n",
    "        if char not in cipher_alpha:\n",
    "            cipher_alpha += char\n",
    "    plain_alpha_rest = plain_alpha[plain_alpha.find(cipher_alpha[-1]):]\n",
    "    for char in plain_alpha_rest:\n",
    "        char = char.upper()\n",
    "        if char not in cipher_alpha:\n",
    "            cipher_alpha += char\n",
    "    plain_alpha_beginning = plain_alpha[:plain_alpha.find(cipher_alpha[-1])]\n",
    "    for char in plain_alpha_beginning:\n",
    "        char = char.upper()\n",
    "        if char not in cipher_alpha:\n",
    "            cipher_alpha += char  \n",
    "    return cipher_alpha"
   ]
  },
  {
   "cell_type": "code",
   "execution_count": 251,
   "metadata": {},
   "outputs": [],
   "source": [
    "def encrypt(plaintext, keyword):\n",
    "    cipher_alpha = build_cipher_alpha(keyword)\n",
    "    encrypt_cipher = { plain_alpha[i] : cipher_alpha[i] for i in range(len(plain_alpha))}\n",
    "    return ''.join([encrypt_cipher[x] if x.isalpha() else x for x in plaintext.lower()]).upper()\n",
    "\n",
    "def decrypt(ciphtertext, keyword):\n",
    "    cipher_alpha = build_cipher_alpha(keyword)\n",
    "    decrypt_cipher = { cipher_alpha[i] : plain_alpha[i] for i in range(len(cipher_alpha))}\n",
    "    return ''.join([decrypt_cipher[x] if x.isalpha() else x for x in ciphtertext]).lower()\n",
    "\n",
    "def print_alphabets(keyword):\n",
    "    cipher_alpha = build_cipher_alpha(keyword)\n",
    "    encrypt_cipher = { plain_alpha[i] : cipher_alpha[i] for i in range(len(plain_alpha))}\n",
    "    decrypt_cipher = { cipher_alpha[i] : plain_alpha[i] for i in range(len(cipher_alpha))}\n",
    "    display(pd.DataFrame.from_dict({'plain alphabet' : list(encrypt_cipher.keys()), \n",
    "                            'cipher alphabet' : list(encrypt_cipher.values())}))\n"
   ]
  },
  {
   "cell_type": "code",
   "execution_count": 252,
   "metadata": {},
   "outputs": [
    {
     "data": {
      "text/plain": [
       "'TESKYWORDZABCFGHIJLMNPQUVX'"
      ]
     },
     "execution_count": 252,
     "metadata": {},
     "output_type": "execute_result"
    }
   ],
   "source": [
    "build_cipher_alpha(keyword)"
   ]
  },
  {
   "cell_type": "code",
   "execution_count": 273,
   "metadata": {},
   "outputs": [
    {
     "data": {
      "text/plain": [
       "'well this time we need something much longer, for the reason of frequency analysis perhaps.'"
      ]
     },
     "execution_count": 273,
     "metadata": {},
     "output_type": "execute_result"
    }
   ],
   "source": [
    "plaintext = 'well this time we need something much longer, for the reason of frequency analysis perhaps.'\n",
    "plaintext"
   ]
  },
  {
   "cell_type": "code",
   "execution_count": 275,
   "metadata": {},
   "outputs": [],
   "source": [
    "keyword = 'testkeyword'"
   ]
  },
  {
   "cell_type": "code",
   "execution_count": 279,
   "metadata": {},
   "outputs": [
    {
     "data": {
      "text/plain": [
       "'QYBB MRDL MDCY QY FYYK LGCYMRDFO CNSR BGFOYJ, WGJ MRY JYTLGF GW WJYINYFSV TFTBVLDL HYJRTHL.'"
      ]
     },
     "execution_count": 279,
     "metadata": {},
     "output_type": "execute_result"
    }
   ],
   "source": [
    "ciphertext = encrypt(plaintext, keyword)\n",
    "ciphertext"
   ]
  },
  {
   "cell_type": "code",
   "execution_count": 256,
   "metadata": {},
   "outputs": [
    {
     "data": {
      "text/plain": [
       "'well this time we need something much longer, for the reason of frequency analysis perhaps.'"
      ]
     },
     "execution_count": 256,
     "metadata": {},
     "output_type": "execute_result"
    }
   ],
   "source": [
    "decrypt(ciphtertext, keyword)"
   ]
  },
  {
   "cell_type": "code",
   "execution_count": null,
   "metadata": {},
   "outputs": [],
   "source": []
  },
  {
   "cell_type": "code",
   "execution_count": null,
   "metadata": {},
   "outputs": [],
   "source": [
    "aiorn\n",
    "eiasrn"
   ]
  },
  {
   "cell_type": "code",
   "execution_count": 218,
   "metadata": {},
   "outputs": [],
   "source": [
    "# TO DO... crack without a keyword"
   ]
  },
  {
   "cell_type": "code",
   "execution_count": 261,
   "metadata": {},
   "outputs": [
    {
     "data": {
      "image/png": "[encoded data removed]",
      "text/plain": [
       "<Figure size 720x720 with 1 Axes>"
      ]
     },
     "metadata": {
      "needs_background": "light"
     },
     "output_type": "display_data"
    }
   ],
   "source": [
    "plot_frequency(build_letter_frequency_dict(clean_non_alpha(list(set(ciphtertext.split(' '))))),order_by_freq = True)"
   ]
  },
  {
   "cell_type": "code",
   "execution_count": 281,
   "metadata": {},
   "outputs": [],
   "source": [
    "cipher_alpha_crack = {plain_alpha[i].upper() :'.' for i in range(len(plain_alpha))}"
   ]
  },
  {
   "cell_type": "code",
   "execution_count": 302,
   "metadata": {},
   "outputs": [],
   "source": []
  },
  {
   "cell_type": "code",
   "execution_count": 280,
   "metadata": {},
   "outputs": [
    {
     "data": {
      "text/plain": [
       "'QYBB MRDL MDCY QY FYYK LGCYMRDFO CNSR BGFOYJ, WGJ MRY JYTLGF GW WJYINYFSV TFTBVLDL HYJRTHL.'"
      ]
     },
     "execution_count": 280,
     "metadata": {},
     "output_type": "execute_result"
    }
   ],
   "source": [
    "ciphertext"
   ]
  },
  {
   "cell_type": "code",
   "execution_count": null,
   "metadata": {},
   "outputs": [],
   "source": []
  },
  {
   "cell_type": "code",
   "execution_count": 291,
   "metadata": {},
   "outputs": [],
   "source": [
    "def show_partial_decryption(ciphertext, cipher_alpha_crack):\n",
    "    print(ciphertext)\n",
    "    print(''.join([cipher_alpha_crack[x] if x.isalpha() else x for x in ciphtertext]).lower())"
   ]
  },
  {
   "cell_type": "code",
   "execution_count": 351,
   "metadata": {},
   "outputs": [],
   "source": [
    "cipher_alpha_crack['Y'] = 'e'\n",
    "cipher_alpha_crack['L'] = 's'\n",
    "cipher_alpha_crack['F'] = 'n' #not 'a'\n",
    "cipher_alpha_crack['K'] = 'd'\n",
    "cipher_alpha_crack['T'] = 'a'\n",
    "cipher_alpha_crack['B'] = 'l'\n",
    "cipher_alpha_crack['V'] = 'y'\n",
    "cipher_alpha_crack['D'] = 'i'\n",
    "cipher_alpha_crack['G'] = 'o'\n",
    "cipher_alpha_crack['C'] = 'm'\n",
    "cipher_alpha_crack['M'] = 't'\n",
    "cipher_alpha_crack['R'] = 'h'\n",
    "cipher_alpha_crack['O'] = 'g'\n",
    "cipher_alpha_crack['J'] = 'r'\n",
    "cipher_alpha_crack['W'] = 'f'\n"
   ]
  },
  {
   "cell_type": "code",
   "execution_count": 352,
   "metadata": {},
   "outputs": [
    {
     "name": "stdout",
     "output_type": "stream",
     "text": [
      "QYBB MRDL MDCY QY FYYK LGCYMRDFO CNSR BGFOYJ, WGJ MRY JYTLGF GW WJYINYFSV TFTBVLDL HYJRTHL.\n",
      ".ell this time .e need something m..h longer, for the reason of fre..en.y analysis .erha.s.\n"
     ]
    }
   ],
   "source": [
    "show_partial_decryption(ciphertext, cipher_alpha_crack)"
   ]
  },
  {
   "cell_type": "code",
   "execution_count": 293,
   "metadata": {},
   "outputs": [],
   "source": [
    "#print_alphabets(keyword)"
   ]
  },
  {
   "cell_type": "code",
   "execution_count": 325,
   "metadata": {},
   "outputs": [
    {
     "data": {
      "text/plain": [
       "['jess',\n",
       " 'fell',\n",
       " 'vell',\n",
       " 'cell',\n",
       " 'yell',\n",
       " 'tell',\n",
       " 'mell',\n",
       " 'dess',\n",
       " 'dell',\n",
       " 'bess',\n",
       " 'teff',\n",
       " 'less',\n",
       " 'redd',\n",
       " 'cess',\n",
       " 'pess',\n",
       " 'kell',\n",
       " 'gegg',\n",
       " 'well',\n",
       " 'jeff',\n",
       " 'nell',\n",
       " 'fess',\n",
       " 'ness',\n",
       " 'sett',\n",
       " 'sell',\n",
       " 'benn',\n",
       " 'repp',\n",
       " 'bell',\n",
       " 'jell',\n",
       " 'heii',\n",
       " 'mess',\n",
       " 'kenn',\n",
       " 'pell',\n",
       " 'tess',\n",
       " 'lett',\n",
       " 'sess',\n",
       " 'hell',\n",
       " 'gell',\n",
       " 'yegg']"
      ]
     },
     "execution_count": 325,
     "metadata": {},
     "output_type": "execute_result"
    }
   ],
   "source": [
    "[x for x in all_words if len(x) == 4 and x[1] == 'e' and x[2] == x[3]]"
   ]
  },
  {
   "cell_type": "code",
   "execution_count": 297,
   "metadata": {},
   "outputs": [
    {
     "data": {
      "text/plain": [
       "['ure',\n",
       " 'rhe',\n",
       " 'ere',\n",
       " 'hoe',\n",
       " 'ape',\n",
       " 'hue',\n",
       " 'ree',\n",
       " 'ire',\n",
       " 'rue',\n",
       " 'owe',\n",
       " 'ose',\n",
       " 'ule',\n",
       " 'nee',\n",
       " 'she',\n",
       " 'moe',\n",
       " 'use',\n",
       " 'sye',\n",
       " 'sie',\n",
       " 'eme',\n",
       " 'ole',\n",
       " 'ase',\n",
       " 'yee',\n",
       " 'eve',\n",
       " 'see',\n",
       " 'ute',\n",
       " 'obe',\n",
       " 'joe',\n",
       " 'roe',\n",
       " 'soe',\n",
       " 'dae',\n",
       " 'hie',\n",
       " 'foe',\n",
       " 'dee',\n",
       " 'woe',\n",
       " 'are',\n",
       " 'pee',\n",
       " 'bae',\n",
       " 'cue',\n",
       " 'tye',\n",
       " 'lee',\n",
       " 'bee',\n",
       " 'ore',\n",
       " 'rie',\n",
       " 'tie',\n",
       " 'eke',\n",
       " 'due',\n",
       " 'dye',\n",
       " 'axe',\n",
       " 'die',\n",
       " 'ope',\n",
       " 'wae',\n",
       " 'mae',\n",
       " 'ace',\n",
       " 'gie',\n",
       " 'ode',\n",
       " 'fae',\n",
       " 'ade',\n",
       " 'poe',\n",
       " 'tee',\n",
       " 'lye',\n",
       " 'ewe',\n",
       " 'pie',\n",
       " 'ice',\n",
       " 'fie',\n",
       " 'one',\n",
       " 'tae',\n",
       " 'aye',\n",
       " 'fee',\n",
       " 'rye',\n",
       " 'nye',\n",
       " 'tue',\n",
       " 'ake',\n",
       " 'wee',\n",
       " 'abe',\n",
       " 'lie',\n",
       " 'sue',\n",
       " 'ume',\n",
       " 'ame',\n",
       " 'gee',\n",
       " 'lue',\n",
       " 'awe',\n",
       " 'ate',\n",
       " 'nae',\n",
       " 'che',\n",
       " 'gue',\n",
       " 'coe',\n",
       " 'vee',\n",
       " 'toe',\n",
       " 'voe',\n",
       " 'ike',\n",
       " 'ife',\n",
       " 'kee',\n",
       " 'age',\n",
       " 'cee',\n",
       " 'the',\n",
       " 'ale',\n",
       " 'ide',\n",
       " 'yoe',\n",
       " 'wye',\n",
       " 'doe',\n",
       " 'vie',\n",
       " 'zee',\n",
       " 'bye',\n",
       " 'ave',\n",
       " 'eye',\n",
       " 'uke']"
      ]
     },
     "execution_count": 297,
     "metadata": {},
     "output_type": "execute_result"
    }
   ],
   "source": [
    "[x for x in all_words if len(x) == 3 and x[2] == 'e']"
   ]
  },
  {
   "cell_type": "markdown",
   "metadata": {},
   "source": [
    "## random cipher_alpha"
   ]
  },
  {
   "cell_type": "code",
   "execution_count": null,
   "metadata": {},
   "outputs": [],
   "source": []
  }
 ],
 "metadata": {
  "kernelspec": {
   "display_name": "Python 3",
   "language": "python",
   "name": "python3"
  },
  "language_info": {
   "codemirror_mode": {
    "name": "ipython",
    "version": 3
   },
   "file_extension": ".py",
   "mimetype": "text/x-python",
   "name": "python",
   "nbconvert_exporter": "python",
   "pygments_lexer": "ipython3",
   "version": "3.8.8"
  },
  "toc": {
   "base_numbering": 1,
   "nav_menu": {},
   "number_sections": true,
   "sideBar": true,
   "skip_h1_title": false,
   "title_cell": "Table of Contents",
   "title_sidebar": "Contents",
   "toc_cell": false,
   "toc_position": {},
   "toc_section_display": true,
   "toc_window_display": false
  }
 },
 "nbformat": 4,
 "nbformat_minor": 2
}
